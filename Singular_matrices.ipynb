{
 "cells": [
  {
   "cell_type": "code",
   "execution_count": 43,
   "id": "eadec9c8",
   "metadata": {},
   "outputs": [],
   "source": [
    "import numpy as np\n",
    "\n",
    "def is_valid(n, number, first):\n",
    "    #determines whether a number can generate an nxn matrix\n",
    "    bin_represent = \"{0:b}\".format(number)\n",
    "    one_count = 0\n",
    "    for i in range(len(bin_represent)):\n",
    "        if bin_represent[i] == '1':\n",
    "            one_count += 1\n",
    "    if n % 2 == 0:\n",
    "        if one_count == (n**2)/2:\n",
    "            return True\n",
    "        else: \n",
    "            return False\n",
    "    elif first == 0 and n % 2 == 1:\n",
    "        if one_count == (n**2-1)/2:\n",
    "            return True\n",
    "        else:\n",
    "            return False\n",
    "    elif first == 1 and n % 2 == 1:\n",
    "        if one_count == (n**2+1)/2:\n",
    "            return True\n",
    "        else:\n",
    "            return False\n",
    "\n",
    "def arrange_matrix(n, number):\n",
    "    #n gives the dimensions of the matrix, number gives the number of the matrix\n",
    "    bin_represent = \"{0:b}\".format(number)\n",
    "    zero_string = '0' * (n**2-len(bin_represent))\n",
    "    bin_represent_full = zero_string + bin_represent\n",
    "    array = []\n",
    "    for i in range(n**2):\n",
    "        array.append(bin_represent_full[i])\n",
    "    array_mat = np.array(array)\n",
    "    matrix = array_mat.reshape(n, n)     \n",
    "                \n",
    "    return matrix\n",
    "\n",
    "def check_win(board):\n",
    "    try:\n",
    "        if np.linalg.det(board) == 0:\n",
    "            return True\n",
    "    except np.linalg.LinAlgError:  \n",
    "        # Handle singular matrix for n=1\n",
    "        if board[0][0] == 0:\n",
    "            return True\n",
    "    return False"
   ]
  },
  {
   "cell_type": "markdown",
   "id": "a1693d2a",
   "metadata": {},
   "source": [
    "**Analysis of matrices possible in nxn game**\n",
    "\n",
    "Player 0 playing first"
   ]
  },
  {
   "cell_type": "code",
   "execution_count": 65,
   "id": "2a1697a3",
   "metadata": {},
   "outputs": [
    {
     "name": "stdout",
     "output_type": "stream",
     "text": [
      "Games: 1\n",
      "Wins: 1\n"
     ]
    }
   ],
   "source": [
    "n = 1\n",
    "games = 0\n",
    "wins = 0\n",
    "for i in range(2**(n**2)):\n",
    "    if is_valid(n, i, 0) == True:\n",
    "        if check_win(arrange_matrix(n, i).astype(float)) == True:\n",
    "            wins += 1\n",
    "            games += 1\n",
    "        else:   \n",
    "            games += 1\n",
    "            \n",
    "print(f\"Games: {games}\")\n",
    "print(f\"Wins: {wins}\")"
   ]
  },
  {
   "cell_type": "code",
   "execution_count": 66,
   "id": "50fb5030",
   "metadata": {},
   "outputs": [
    {
     "name": "stdout",
     "output_type": "stream",
     "text": [
      "Games: 6\n",
      "Wins: 4\n"
     ]
    }
   ],
   "source": [
    "n = 2\n",
    "games = 0\n",
    "wins = 0\n",
    "for i in range(2**(n**2)):\n",
    "    if is_valid(n, i, 0) == True:\n",
    "        if check_win(arrange_matrix(n, i).astype(float)) == True:\n",
    "            wins += 1\n",
    "            games += 1\n",
    "        else:   \n",
    "            games += 1\n",
    "            \n",
    "print(f\"Games: {games}\")\n",
    "print(f\"Wins: {wins}\")"
   ]
  },
  {
   "cell_type": "code",
   "execution_count": 67,
   "id": "1971a4ef",
   "metadata": {},
   "outputs": [
    {
     "name": "stdout",
     "output_type": "stream",
     "text": [
      "Games: 126\n",
      "Wins: 90\n"
     ]
    }
   ],
   "source": [
    "n = 3\n",
    "games = 0\n",
    "wins = 0\n",
    "for i in range(2**(n**2)):\n",
    "    if is_valid(n, i, 0) == True:\n",
    "        if check_win(arrange_matrix(n, i).astype(float)) == True:\n",
    "            wins += 1\n",
    "            games += 1\n",
    "        else:   \n",
    "            games += 1\n",
    "            \n",
    "print(f\"Games: {games}\")\n",
    "print(f\"Wins: {wins}\")"
   ]
  },
  {
   "cell_type": "code",
   "execution_count": 68,
   "id": "f38feb84",
   "metadata": {},
   "outputs": [
    {
     "name": "stdout",
     "output_type": "stream",
     "text": [
      "Games: 12870\n",
      "Wins: 7542\n"
     ]
    }
   ],
   "source": [
    "n = 4\n",
    "games = 0\n",
    "wins = 0\n",
    "for i in range(2**(n**2)):\n",
    "    if is_valid(n, i, 0) == True:\n",
    "        if check_win(arrange_matrix(n, i).astype(float)) == True:\n",
    "            wins += 1\n",
    "            games += 1\n",
    "        else:   \n",
    "            games += 1\n",
    "            \n",
    "print(f\"Games: {games}\")\n",
    "print(f\"Wins: {wins}\")"
   ]
  },
  {
   "cell_type": "code",
   "execution_count": 63,
   "id": "b543246c",
   "metadata": {
    "scrolled": true
   },
   "outputs": [
    {
     "name": "stdout",
     "output_type": "stream",
     "text": [
      "Games: 5200300\n",
      "Wins: 3100900\n"
     ]
    }
   ],
   "source": [
    "n = 5\n",
    "games = 0\n",
    "wins = 0\n",
    "for i in range(2**(n**2)):\n",
    "    if is_valid(n, i, 0) == True:\n",
    "        if check_win(arrange_matrix(n, i).astype(float)) == True:\n",
    "            wins += 1\n",
    "            games += 1\n",
    "        else:   \n",
    "            games += 1\n",
    "            \n",
    "print(f\"Games: {games}\")\n",
    "print(f\"Wins: {wins}\")"
   ]
  },
  {
   "cell_type": "markdown",
   "id": "43b62461",
   "metadata": {},
   "source": [
    "**Analysis of matrices possible in nxn game**\n",
    "\n",
    "Player 1 playing first"
   ]
  },
  {
   "cell_type": "code",
   "execution_count": 69,
   "id": "a6bcfa7b",
   "metadata": {},
   "outputs": [
    {
     "name": "stdout",
     "output_type": "stream",
     "text": [
      "Games: 1\n",
      "Wins: 0\n"
     ]
    }
   ],
   "source": [
    "n = 1\n",
    "games = 0\n",
    "wins = 0\n",
    "for i in range(2**(n**2)):\n",
    "    if is_valid(n, i, 1) == True:\n",
    "        if check_win(arrange_matrix(n, i).astype(float)) == True:\n",
    "            wins += 1\n",
    "            games += 1\n",
    "        else:   \n",
    "            games += 1\n",
    "            \n",
    "print(f\"Games: {games}\")\n",
    "print(f\"Wins: {wins}\")"
   ]
  },
  {
   "cell_type": "code",
   "execution_count": 70,
   "id": "3298c40c",
   "metadata": {},
   "outputs": [
    {
     "name": "stdout",
     "output_type": "stream",
     "text": [
      "Games: 6\n",
      "Wins: 4\n"
     ]
    }
   ],
   "source": [
    "n = 2\n",
    "games = 0\n",
    "wins = 0\n",
    "for i in range(2**(n**2)):\n",
    "    if is_valid(n, i, 1) == True:\n",
    "        if check_win(arrange_matrix(n, i).astype(float)) == True:\n",
    "            wins += 1\n",
    "            games += 1\n",
    "        else:   \n",
    "            games += 1\n",
    "            \n",
    "print(f\"Games: {games}\")\n",
    "print(f\"Wins: {wins}\")"
   ]
  },
  {
   "cell_type": "code",
   "execution_count": 71,
   "id": "f1af2f93",
   "metadata": {},
   "outputs": [
    {
     "name": "stdout",
     "output_type": "stream",
     "text": [
      "Games: 126\n",
      "Wins: 54\n"
     ]
    }
   ],
   "source": [
    "n = 3\n",
    "games = 0\n",
    "wins = 0\n",
    "for i in range(2**(n**2)):\n",
    "    if is_valid(n, i, 1) == True:\n",
    "        if check_win(arrange_matrix(n, i).astype(float)) == True:\n",
    "            wins += 1\n",
    "            games += 1\n",
    "        else:   \n",
    "            games += 1\n",
    "            \n",
    "print(f\"Games: {games}\")\n",
    "print(f\"Wins: {wins}\")"
   ]
  },
  {
   "cell_type": "code",
   "execution_count": 72,
   "id": "d7a0ce2c",
   "metadata": {},
   "outputs": [
    {
     "name": "stdout",
     "output_type": "stream",
     "text": [
      "Games: 12870\n",
      "Wins: 7542\n"
     ]
    }
   ],
   "source": [
    "n = 4\n",
    "games = 0\n",
    "wins = 0\n",
    "for i in range(2**(n**2)):\n",
    "    if is_valid(n, i, 1) == True:\n",
    "        if check_win(arrange_matrix(n, i).astype(float)) == True:\n",
    "            wins += 1\n",
    "            games += 1\n",
    "        else:   \n",
    "            games += 1\n",
    "            \n",
    "print(f\"Games: {games}\")\n",
    "print(f\"Wins: {wins}\")"
   ]
  },
  {
   "cell_type": "code",
   "execution_count": 73,
   "id": "43d1be64",
   "metadata": {},
   "outputs": [
    {
     "name": "stdout",
     "output_type": "stream",
     "text": [
      "Games: 5200300\n",
      "Wins: 2868700\n"
     ]
    }
   ],
   "source": [
    "n = 5\n",
    "games = 0\n",
    "wins = 0\n",
    "for i in range(2**(n**2)):\n",
    "    if is_valid(n, i, 1) == True:\n",
    "        if check_win(arrange_matrix(n, i).astype(float)) == True:\n",
    "            wins += 1\n",
    "            games += 1\n",
    "        else:   \n",
    "            games += 1\n",
    "            \n",
    "print(f\"Games: {games}\")\n",
    "print(f\"Wins: {wins}\")"
   ]
  }
 ],
 "metadata": {
  "kernelspec": {
   "display_name": "Python 3 (ipykernel)",
   "language": "python",
   "name": "python3"
  },
  "language_info": {
   "codemirror_mode": {
    "name": "ipython",
    "version": 3
   },
   "file_extension": ".py",
   "mimetype": "text/x-python",
   "name": "python",
   "nbconvert_exporter": "python",
   "pygments_lexer": "ipython3",
   "version": "3.9.12"
  }
 },
 "nbformat": 4,
 "nbformat_minor": 5
}
